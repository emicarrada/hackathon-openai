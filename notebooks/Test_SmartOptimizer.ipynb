{
 "cells": [
  {
   "cell_type": "markdown",
   "id": "87a4328a",
   "metadata": {},
   "source": [
    "# Test Smart Optimizer - Pruebas de Stubs\n",
    "\n",
    "Este notebook prueba los stubs del Smart Optimizer para asegurar que la infraestructura funciona correctamente.\n",
    "\n",
    "**Nota**: Solo pruebas de stubs pre-evento. No lógica funcional real."
   ]
  },
  {
   "cell_type": "code",
   "execution_count": 1,
   "id": "504f2496",
   "metadata": {},
   "outputs": [
    {
     "ename": "ModuleNotFoundError",
     "evalue": "No module named 'nodos'",
     "output_type": "error",
     "traceback": [
      "\u001b[31m---------------------------------------------------------------------------\u001b[39m",
      "\u001b[31mModuleNotFoundError\u001b[39m                       Traceback (most recent call last)",
      "\u001b[36mCell\u001b[39m\u001b[36m \u001b[39m\u001b[32mIn[1]\u001b[39m\u001b[32m, line 9\u001b[39m\n\u001b[32m      6\u001b[39m sys.path.append(os.path.abspath(\u001b[33m'\u001b[39m\u001b[33msrc\u001b[39m\u001b[33m'\u001b[39m))\n\u001b[32m      8\u001b[39m \u001b[38;5;66;03m# Importar módulos\u001b[39;00m\n\u001b[32m----> \u001b[39m\u001b[32m9\u001b[39m \u001b[38;5;28;01mfrom\u001b[39;00m \u001b[34;01mnodos\u001b[39;00m\u001b[34;01m.\u001b[39;00m\u001b[34;01mevaluar_complejidad\u001b[39;00m \u001b[38;5;28;01mimport\u001b[39;00m evaluar_complejidad\n\u001b[32m     10\u001b[39m \u001b[38;5;28;01mfrom\u001b[39;00m \u001b[34;01mnodos\u001b[39;00m\u001b[34;01m.\u001b[39;00m\u001b[34;01mgenerar_refinar\u001b[39;00m \u001b[38;5;28;01mimport\u001b[39;00m generar_refinar\n\u001b[32m     11\u001b[39m \u001b[38;5;28;01mfrom\u001b[39;00m \u001b[34;01mnodos\u001b[39;00m\u001b[34;01m.\u001b[39;00m\u001b[34;01mvalidar_calidad\u001b[39;00m \u001b[38;5;28;01mimport\u001b[39;00m validar_calidad\n",
      "\u001b[31mModuleNotFoundError\u001b[39m: No module named 'nodos'"
     ]
    }
   ],
   "source": [
    "# Imports\n",
    "import sys\n",
    "import os\n",
    "\n",
    "# Agregar src al path\n",
    "sys.path.append(os.path.abspath('src'))\n",
    "\n",
    "# Importar módulos\n",
    "from nodos.evaluar_complejidad import evaluar_complejidad\n",
    "from nodos.generar_refinar import generar_refinar\n",
    "from nodos.validar_calidad import validar_calidad\n",
    "from utils import inicializar_openai\n",
    "from contador import medir_llamada_llm\n",
    "\n",
    "print(\"Imports exitosos\")"
   ]
  },
  {
   "cell_type": "markdown",
   "id": "ccc33bbf",
   "metadata": {},
   "source": [
    "## Prueba de Infraestructura Base"
   ]
  },
  {
   "cell_type": "code",
   "execution_count": 2,
   "id": "da669144",
   "metadata": {},
   "outputs": [
    {
     "ename": "NameError",
     "evalue": "name 'inicializar_openai' is not defined",
     "output_type": "error",
     "traceback": [
      "\u001b[31m---------------------------------------------------------------------------\u001b[39m",
      "\u001b[31mNameError\u001b[39m                                 Traceback (most recent call last)",
      "\u001b[36mCell\u001b[39m\u001b[36m \u001b[39m\u001b[32mIn[2]\u001b[39m\u001b[32m, line 2\u001b[39m\n\u001b[32m      1\u001b[39m \u001b[38;5;66;03m# Prueba inicializar_openai\u001b[39;00m\n\u001b[32m----> \u001b[39m\u001b[32m2\u001b[39m cliente = \u001b[43minicializar_openai\u001b[49m()\n\u001b[32m      3\u001b[39m \u001b[38;5;28mprint\u001b[39m(\u001b[33mf\u001b[39m\u001b[33m\"\u001b[39m\u001b[33mCliente OpenAI inicializado: \u001b[39m\u001b[38;5;132;01m{\u001b[39;00mcliente\u001b[38;5;250m \u001b[39m\u001b[38;5;129;01mis\u001b[39;00m\u001b[38;5;250m \u001b[39m\u001b[38;5;129;01mnot\u001b[39;00m\u001b[38;5;250m \u001b[39m\u001b[38;5;28;01mNone\u001b[39;00m\u001b[38;5;132;01m}\u001b[39;00m\u001b[33m\"\u001b[39m)\n\u001b[32m      5\u001b[39m \u001b[38;5;66;03m# Prueba contador en modo demo\u001b[39;00m\n",
      "\u001b[31mNameError\u001b[39m: name 'inicializar_openai' is not defined"
     ]
    }
   ],
   "source": [
    "# Prueba inicializar_openai\n",
    "cliente = inicializar_openai()\n",
    "print(f\"Cliente OpenAI inicializado: {cliente is not None}\")\n",
    "\n",
    "# Prueba contador en modo demo\n",
    "resultado_demo = medir_llamada_llm(\"Test prompt\", modelo=\"gpt-3.5-turbo\", modo_demo=True)\n",
    "print(f\"Resultado demo: {resultado_demo}\")"
   ]
  },
  {
   "cell_type": "markdown",
   "id": "c6ff2eb9",
   "metadata": {},
   "source": [
    "## Prueba de Nodo: Evaluar Complejidad"
   ]
  },
  {
   "cell_type": "code",
   "execution_count": 3,
   "id": "9364e3f3",
   "metadata": {},
   "outputs": [
    {
     "ename": "NameError",
     "evalue": "name 'evaluar_complejidad' is not defined",
     "output_type": "error",
     "traceback": [
      "\u001b[31m---------------------------------------------------------------------------\u001b[39m",
      "\u001b[31mNameError\u001b[39m                                 Traceback (most recent call last)",
      "\u001b[36mCell\u001b[39m\u001b[36m \u001b[39m\u001b[32mIn[3]\u001b[39m\u001b[32m, line 3\u001b[39m\n\u001b[32m      1\u001b[39m \u001b[38;5;66;03m# Prueba evaluar_complejidad\u001b[39;00m\n\u001b[32m      2\u001b[39m texto_prueba = \u001b[33m\"\u001b[39m\u001b[33mEste es un texto simple para resumir.\u001b[39m\u001b[33m\"\u001b[39m\n\u001b[32m----> \u001b[39m\u001b[32m3\u001b[39m resultado_eval = \u001b[43mevaluar_complejidad\u001b[49m(texto_prueba)\n\u001b[32m      4\u001b[39m \u001b[38;5;28mprint\u001b[39m(\u001b[33mf\u001b[39m\u001b[33m\"\u001b[39m\u001b[33mResultado evaluación: \u001b[39m\u001b[38;5;132;01m{\u001b[39;00mresultado_eval\u001b[38;5;132;01m}\u001b[39;00m\u001b[33m\"\u001b[39m)\n\u001b[32m      5\u001b[39m \u001b[38;5;28;01massert\u001b[39;00m \u001b[38;5;28misinstance\u001b[39m(resultado_eval, \u001b[38;5;28mdict\u001b[39m)\n",
      "\u001b[31mNameError\u001b[39m: name 'evaluar_complejidad' is not defined"
     ]
    }
   ],
   "source": [
    "# Prueba evaluar_complejidad\n",
    "texto_prueba = \"Este es un texto simple para resumir.\"\n",
    "resultado_eval = evaluar_complejidad(texto_prueba)\n",
    "print(f\"Resultado evaluación: {resultado_eval}\")\n",
    "assert isinstance(resultado_eval, dict)\n",
    "assert \"complejidad\" in resultado_eval\n",
    "assert \"modelo\" in resultado_eval\n",
    "print(\"✓ Nodo evaluar_complejidad funciona correctamente\")"
   ]
  },
  {
   "cell_type": "markdown",
   "id": "f618d5d0",
   "metadata": {},
   "source": [
    "## Prueba de Nodo: Generar y Refinar"
   ]
  },
  {
   "cell_type": "code",
   "execution_count": 4,
   "id": "3e67c0a1",
   "metadata": {},
   "outputs": [
    {
     "ename": "NameError",
     "evalue": "name 'generar_refinar' is not defined",
     "output_type": "error",
     "traceback": [
      "\u001b[31m---------------------------------------------------------------------------\u001b[39m",
      "\u001b[31mNameError\u001b[39m                                 Traceback (most recent call last)",
      "\u001b[36mCell\u001b[39m\u001b[36m \u001b[39m\u001b[32mIn[4]\u001b[39m\u001b[32m, line 4\u001b[39m\n\u001b[32m      2\u001b[39m prompt_prueba = \u001b[33m\"\u001b[39m\u001b[33mResume este texto en 3 frases.\u001b[39m\u001b[33m\"\u001b[39m\n\u001b[32m      3\u001b[39m modelo_prueba = \u001b[33m\"\u001b[39m\u001b[33mgpt-3.5-turbo\u001b[39m\u001b[33m\"\u001b[39m\n\u001b[32m----> \u001b[39m\u001b[32m4\u001b[39m resultado_gen = \u001b[43mgenerar_refinar\u001b[49m(prompt_prueba, modelo=modelo_prueba)\n\u001b[32m      5\u001b[39m \u001b[38;5;28mprint\u001b[39m(\u001b[33mf\u001b[39m\u001b[33m\"\u001b[39m\u001b[33mResultado generación: \u001b[39m\u001b[38;5;132;01m{\u001b[39;00mresultado_gen\u001b[38;5;132;01m}\u001b[39;00m\u001b[33m\"\u001b[39m)\n\u001b[32m      6\u001b[39m \u001b[38;5;28;01massert\u001b[39;00m \u001b[38;5;28misinstance\u001b[39m(resultado_gen, \u001b[38;5;28mstr\u001b[39m)\n",
      "\u001b[31mNameError\u001b[39m: name 'generar_refinar' is not defined"
     ]
    }
   ],
   "source": [
    "# Prueba generar_refinar\n",
    "prompt_prueba = \"Resume este texto en 3 frases.\"\n",
    "modelo_prueba = \"gpt-3.5-turbo\"\n",
    "resultado_gen = generar_refinar(prompt_prueba, modelo=modelo_prueba)\n",
    "print(f\"Resultado generación: {resultado_gen}\")\n",
    "assert isinstance(resultado_gen, str)\n",
    "print(\"✓ Nodo generar_refinar funciona correctamente\")"
   ]
  },
  {
   "cell_type": "markdown",
   "id": "7a269867",
   "metadata": {},
   "source": [
    "## Prueba de Nodo: Validar Calidad"
   ]
  },
  {
   "cell_type": "code",
   "execution_count": 5,
   "id": "0759dd6c",
   "metadata": {},
   "outputs": [
    {
     "ename": "NameError",
     "evalue": "name 'validar_calidad' is not defined",
     "output_type": "error",
     "traceback": [
      "\u001b[31m---------------------------------------------------------------------------\u001b[39m",
      "\u001b[31mNameError\u001b[39m                                 Traceback (most recent call last)",
      "\u001b[36mCell\u001b[39m\u001b[36m \u001b[39m\u001b[32mIn[5]\u001b[39m\u001b[32m, line 4\u001b[39m\n\u001b[32m      2\u001b[39m texto_generado = \u001b[33m\"\u001b[39m\u001b[33mResumen generado.\u001b[39m\u001b[33m\"\u001b[39m\n\u001b[32m      3\u001b[39m texto_original = \u001b[33m\"\u001b[39m\u001b[33mTexto original largo.\u001b[39m\u001b[33m\"\u001b[39m\n\u001b[32m----> \u001b[39m\u001b[32m4\u001b[39m resultado_val = \u001b[43mvalidar_calidad\u001b[49m(texto_generado, texto_original)\n\u001b[32m      5\u001b[39m \u001b[38;5;28mprint\u001b[39m(\u001b[33mf\u001b[39m\u001b[33m\"\u001b[39m\u001b[33mResultado validación: \u001b[39m\u001b[38;5;132;01m{\u001b[39;00mresultado_val\u001b[38;5;132;01m}\u001b[39;00m\u001b[33m\"\u001b[39m)\n\u001b[32m      6\u001b[39m \u001b[38;5;28;01massert\u001b[39;00m \u001b[38;5;28misinstance\u001b[39m(resultado_val, \u001b[38;5;28mdict\u001b[39m)\n",
      "\u001b[31mNameError\u001b[39m: name 'validar_calidad' is not defined"
     ]
    }
   ],
   "source": [
    "# Prueba validar_calidad\n",
    "texto_generado = \"Resumen generado.\"\n",
    "texto_original = \"Texto original largo.\"\n",
    "resultado_val = validar_calidad(texto_generado, texto_original)\n",
    "print(f\"Resultado validación: {resultado_val}\")\n",
    "assert isinstance(resultado_val, dict)\n",
    "print(\"✓ Nodo validar_calidad funciona correctamente\")"
   ]
  },
  {
   "cell_type": "markdown",
   "id": "5900d0ce",
   "metadata": {},
   "source": [
    "## Simulación de Flujo Básico (Sin LangGraph)"
   ]
  },
  {
   "cell_type": "code",
   "execution_count": 6,
   "id": "c145573a",
   "metadata": {},
   "outputs": [
    {
     "name": "stdout",
     "output_type": "stream",
     "text": [
      "--- Iniciando flujo para tarea: Resume la historia de México en 100 palabras. ---\n"
     ]
    },
    {
     "ename": "NameError",
     "evalue": "name 'evaluar_complejidad' is not defined",
     "output_type": "error",
     "traceback": [
      "\u001b[31m---------------------------------------------------------------------------\u001b[39m",
      "\u001b[31mNameError\u001b[39m                                 Traceback (most recent call last)",
      "\u001b[36mCell\u001b[39m\u001b[36m \u001b[39m\u001b[32mIn[6]\u001b[39m\u001b[32m, line 23\u001b[39m\n\u001b[32m     21\u001b[39m \u001b[38;5;66;03m# Ejecutar simulación\u001b[39;00m\n\u001b[32m     22\u001b[39m tarea_ejemplo = \u001b[33m\"\u001b[39m\u001b[33mResume la historia de México en 100 palabras.\u001b[39m\u001b[33m\"\u001b[39m\n\u001b[32m---> \u001b[39m\u001b[32m23\u001b[39m resultado_flujo = \u001b[43msimular_flujo_smart_optimizer\u001b[49m\u001b[43m(\u001b[49m\u001b[43mtarea_ejemplo\u001b[49m\u001b[43m)\u001b[49m\n\u001b[32m     24\u001b[39m \u001b[38;5;28mprint\u001b[39m(\u001b[33mf\u001b[39m\u001b[33m\"\u001b[39m\u001b[33mResultado final: \u001b[39m\u001b[38;5;132;01m{\u001b[39;00mresultado_flujo\u001b[38;5;132;01m}\u001b[39;00m\u001b[33m\"\u001b[39m)\n",
      "\u001b[36mCell\u001b[39m\u001b[36m \u001b[39m\u001b[32mIn[6]\u001b[39m\u001b[32m, line 6\u001b[39m, in \u001b[36msimular_flujo_smart_optimizer\u001b[39m\u001b[34m(tarea)\u001b[39m\n\u001b[32m      3\u001b[39m \u001b[38;5;28mprint\u001b[39m(\u001b[33mf\u001b[39m\u001b[33m\"\u001b[39m\u001b[33m--- Iniciando flujo para tarea: \u001b[39m\u001b[38;5;132;01m{\u001b[39;00mtarea\u001b[38;5;132;01m}\u001b[39;00m\u001b[33m ---\u001b[39m\u001b[33m\"\u001b[39m)\n\u001b[32m      5\u001b[39m \u001b[38;5;66;03m# 1. Evaluar complejidad\u001b[39;00m\n\u001b[32m----> \u001b[39m\u001b[32m6\u001b[39m eval_result = \u001b[43mevaluar_complejidad\u001b[49m(tarea)\n\u001b[32m      7\u001b[39m \u001b[38;5;28mprint\u001b[39m(\u001b[33mf\u001b[39m\u001b[33m\"\u001b[39m\u001b[33mEvaluación: \u001b[39m\u001b[38;5;132;01m{\u001b[39;00meval_result\u001b[38;5;132;01m}\u001b[39;00m\u001b[33m\"\u001b[39m)\n\u001b[32m      9\u001b[39m \u001b[38;5;66;03m# 2. Generar/refinar (usando modelo recomendado)\u001b[39;00m\n",
      "\u001b[31mNameError\u001b[39m: name 'evaluar_complejidad' is not defined"
     ]
    }
   ],
   "source": [
    "# Simular flujo básico de Smart Optimizer\n",
    "def simular_flujo_smart_optimizer(tarea):\n",
    "    print(f\"--- Iniciando flujo para tarea: {tarea} ---\")\n",
    "    \n",
    "    # 1. Evaluar complejidad\n",
    "    eval_result = evaluar_complejidad(tarea)\n",
    "    print(f\"Evaluación: {eval_result}\")\n",
    "    \n",
    "    # 2. Generar/refinar (usando modelo recomendado)\n",
    "    modelo = eval_result[\"modelo\"]\n",
    "    gen_result = generar_refinar(tarea, modelo=modelo)\n",
    "    print(f\"Generación: {gen_result[:50]}...\")\n",
    "    \n",
    "    # 3. Validar calidad\n",
    "    val_result = validar_calidad(gen_result, tarea)\n",
    "    print(f\"Validación: {val_result}\")\n",
    "    \n",
    "    print(\"--- Flujo completado ---\")\n",
    "    return {\"evaluacion\": eval_result, \"generacion\": gen_result, \"validacion\": val_result}\n",
    "\n",
    "# Ejecutar simulación\n",
    "tarea_ejemplo = \"Resume la historia de México en 100 palabras.\"\n",
    "resultado_flujo = simular_flujo_smart_optimizer(tarea_ejemplo)\n",
    "print(f\"Resultado final: {resultado_flujo}\")"
   ]
  },
  {
   "cell_type": "markdown",
   "id": "d705a9fd",
   "metadata": {},
   "source": [
    "## Conclusión\n",
    "\n",
    "Todos los stubs funcionan correctamente y retornan tipos esperados. La infraestructura está lista para integrar LangGraph y lógica real durante el evento.\n",
    "\n",
    "**Compliance**: Solo pruebas de stubs, sin violaciones de reglas 5.4/5.5."
   ]
  }
 ],
 "metadata": {
  "kernelspec": {
   "display_name": "Python 3",
   "language": "python",
   "name": "python3"
  },
  "language_info": {
   "codemirror_mode": {
    "name": "ipython",
    "version": 3
   },
   "file_extension": ".py",
   "mimetype": "text/x-python",
   "name": "python",
   "nbconvert_exporter": "python",
   "pygments_lexer": "ipython3",
   "version": "3.13.7"
  }
 },
 "nbformat": 4,
 "nbformat_minor": 5
}
